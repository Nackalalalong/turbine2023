{
 "cells": [
  {
   "cell_type": "code",
   "execution_count": 1,
   "metadata": {},
   "outputs": [],
   "source": [
    "from data import prepare_dataloaders\n",
    "from models.linear import NLinear, DLinear\n",
    "from constants import Config\n",
    "import torch.nn.functional as F\n",
    "from tqdm import tqdm\n",
    "import matplotlib.pyplot as plt\n",
    "import torch\n",
    "import lightning as L\n",
    "import numpy as np\n",
    "from eval import average_predictions, plot_reconstructed, make_targets"
   ]
  },
  {
   "cell_type": "code",
   "execution_count": 37,
   "metadata": {},
   "outputs": [
    {
     "name": "stdout",
     "output_type": "stream",
     "text": [
      "preparing data3d...\n",
      "done preparing data3d\n"
     ]
    },
    {
     "data": {
      "text/plain": [
       "NLinear(\n",
       "  (linear): ModuleList(\n",
       "    (0-2): 3 x Linear(in_features=24, out_features=96, bias=True)\n",
       "  )\n",
       ")"
      ]
     },
     "execution_count": 37,
     "metadata": {},
     "output_type": "execute_result"
    }
   ],
   "source": [
    "seq_len = 24\n",
    "pred_len = 96\n",
    "n_channels = 3\n",
    "\n",
    "train_loader, val_loader, test_loader = prepare_3d_dataloaders(batch_size=8, seq_len=seq_len, pred_len=pred_len, n_channels=n_channels)\n",
    "\n",
    "nlinear = NLinear(Config(seq_len=seq_len, pred_len=pred_len, n_channels=n_channels))\n",
    "nlinear.cuda()\n"
   ]
  },
  {
   "cell_type": "code",
   "execution_count": 38,
   "metadata": {},
   "outputs": [
    {
     "data": {
      "text/plain": [
       "(torch.Size([8, 24, 3]), torch.Size([8, 96, 3]))"
      ]
     },
     "execution_count": 38,
     "metadata": {},
     "output_type": "execute_result"
    }
   ],
   "source": [
    "tli = iter(train_loader)\n",
    "for i in range(100):\n",
    "    batch = next(tli)\n",
    "x,y = batch\n",
    "x = x.cuda()\n",
    "y = y.cuda()\n",
    "x.shape,y.shape"
   ]
  },
  {
   "cell_type": "code",
   "execution_count": 12,
   "metadata": {},
   "outputs": [
    {
     "data": {
      "text/plain": [
       "torch.Size([8, 1, 3])"
      ]
     },
     "execution_count": 12,
     "metadata": {},
     "output_type": "execute_result"
    }
   ],
   "source": [
    "y_hat = nlinear.forward(x)\n",
    "y_hat.shape"
   ]
  },
  {
   "cell_type": "code",
   "execution_count": 13,
   "metadata": {},
   "outputs": [
    {
     "data": {
      "text/plain": [
       "tensor([[[  1.0724, 333.4085,  19.7509]],\n",
       "\n",
       "        [[  1.1286, 338.2799,  20.3234]],\n",
       "\n",
       "        [[  1.1276, 334.9824,  20.9630]],\n",
       "\n",
       "        [[  1.1178, 332.3256,  20.4907]],\n",
       "\n",
       "        [[  1.1132, 327.2790,  19.2461]],\n",
       "\n",
       "        [[  1.1254, 319.8542,  18.1337]],\n",
       "\n",
       "        [[  1.0870, 323.3980,  17.5411]],\n",
       "\n",
       "        [[  1.1297, 324.8519,  17.7253]]], device='cuda:0',\n",
       "       dtype=torch.float64)"
      ]
     },
     "execution_count": 13,
     "metadata": {},
     "output_type": "execute_result"
    }
   ],
   "source": [
    "y"
   ]
  },
  {
   "cell_type": "code",
   "execution_count": 14,
   "metadata": {},
   "outputs": [
    {
     "data": {
      "text/plain": [
       "tensor([[[  1.2881, 339.2560,  21.0322]],\n",
       "\n",
       "        [[  1.2657, 338.4501,  20.7917]],\n",
       "\n",
       "        [[  1.2797, 337.7162,  20.5053]],\n",
       "\n",
       "        [[  1.2967, 321.5578,  20.2981]],\n",
       "\n",
       "        [[  1.2974, 326.4244,  20.1478]],\n",
       "\n",
       "        [[  1.2940, 338.3836,  20.4075]],\n",
       "\n",
       "        [[  1.2718, 344.6643,  21.0154]],\n",
       "\n",
       "        [[  1.2846, 347.5431,  21.3955]]], device='cuda:0',\n",
       "       dtype=torch.float64, grad_fn=<AddBackward0>)"
      ]
     },
     "execution_count": 14,
     "metadata": {},
     "output_type": "execute_result"
    }
   ],
   "source": [
    "y_hat"
   ]
  },
  {
   "cell_type": "code",
   "execution_count": 15,
   "metadata": {},
   "outputs": [
    {
     "data": {
      "text/plain": [
       "tensor(62.6138, device='cuda:0', dtype=torch.float64,\n",
       "       grad_fn=<MseLossBackward0>)"
      ]
     },
     "execution_count": 15,
     "metadata": {},
     "output_type": "execute_result"
    }
   ],
   "source": [
    "F.mse_loss(y_hat, y)"
   ]
  },
  {
   "cell_type": "code",
   "execution_count": 45,
   "metadata": {},
   "outputs": [
    {
     "name": "stdout",
     "output_type": "stream",
     "text": [
      "0\n"
     ]
    },
    {
     "name": "stderr",
     "output_type": "stream",
     "text": [
      "c:\\Users\\nak-o\\miniconda3\\envs\\ds\\lib\\site-packages\\lightning\\pytorch\\core\\module.py:407: UserWarning: You are trying to `self.log()` but the `self.trainer` reference is not registered on the model yet. This is most likely because the model hasn't been passed to the `Trainer`\n",
      "  rank_zero_warn(\n"
     ]
    },
    {
     "name": "stdout",
     "output_type": "stream",
     "text": [
      "6270\n",
      "0\n",
      "6270\n",
      "0\n",
      "6270\n",
      "0\n",
      "6270\n",
      "0\n",
      "6270\n",
      "0\n",
      "6270\n",
      "0\n",
      "6270\n",
      "0\n",
      "6270\n",
      "0\n",
      "6270\n",
      "0\n",
      "6270\n",
      "0\n",
      "6270\n",
      "0\n",
      "6270\n",
      "0\n",
      "6270\n",
      "0\n",
      "6270\n",
      "0\n",
      "6270\n",
      "0\n",
      "6270\n",
      "0\n",
      "6270\n",
      "0\n",
      "6270\n",
      "0\n",
      "6270\n",
      "0\n",
      "6270\n"
     ]
    }
   ],
   "source": [
    "\n",
    "nlinear = NLinear(Config(seq_len=seq_len, pred_len=pred_len, n_channels=n_channels))\n",
    "nlinear.cuda()\n",
    "\n",
    "losses = []\n",
    "optimizer = torch.optim.Adam(nlinear.parameters(), lr=1e-4)\n",
    "\n",
    "for _ in range(20):\n",
    "\n",
    "    print(len(nlinear.training_step_losses))\n",
    "\n",
    "    tli = iter(train_loader)\n",
    "    while True:\n",
    "        batch = next(tli, None)\n",
    "        if batch is None:\n",
    "            break\n",
    "        optimizer.zero_grad()\n",
    "        loss = nlinear.training_step(batch, 0)\n",
    "        loss.backward()\n",
    "        optimizer.step()\n",
    "\n",
    "    print(len(nlinear.training_step_losses))\n",
    "    _losses = [e.item() for e in nlinear.training_step_losses]\n",
    "    loss = sum(_losses) / len(_losses)\n",
    "    losses.append(loss)\n",
    "    nlinear.training_step_losses.clear()"
   ]
  },
  {
   "cell_type": "code",
   "execution_count": 46,
   "metadata": {},
   "outputs": [
    {
     "data": {
      "text/plain": [
       "[296.69031417605913,\n",
       " 270.22497621021614,\n",
       " 266.0020441246135,\n",
       " 263.8768211823139,\n",
       " 262.55232802795774,\n",
       " 261.6370972562828,\n",
       " 260.96129486103877,\n",
       " 260.4380749649951,\n",
       " 260.0185610688298,\n",
       " 259.6731910848716,\n",
       " 259.38298707801454,\n",
       " 259.1351408476789,\n",
       " 258.920641095937,\n",
       " 258.7329275016804,\n",
       " 258.5670889212923,\n",
       " 258.4193638960889,\n",
       " 258.2868167079619,\n",
       " 258.1671196771408,\n",
       " 258.0584022669484,\n",
       " 257.95914368944756]"
      ]
     },
     "execution_count": 46,
     "metadata": {},
     "output_type": "execute_result"
    }
   ],
   "source": [
    "losses"
   ]
  },
  {
   "cell_type": "code",
   "execution_count": 47,
   "metadata": {},
   "outputs": [
    {
     "data": {
      "text/plain": [
       "[<matplotlib.lines.Line2D at 0x2d4016d5de0>]"
      ]
     },
     "execution_count": 47,
     "metadata": {},
     "output_type": "execute_result"
    },
    {
     "data": {
      "image/png": "[encoded data removed]",
      "text/plain": [
       "<Figure size 640x480 with 1 Axes>"
      ]
     },
     "metadata": {},
     "output_type": "display_data"
    }
   ],
   "source": [
    "plt.plot(range(len(losses)), losses)"
   ]
  },
  {
   "cell_type": "code",
   "execution_count": 31,
   "metadata": {},
   "outputs": [],
   "source": [
    "losses = [e.item() for e in nlinear.training_step_losses]"
   ]
  },
  {
   "cell_type": "code",
   "execution_count": 32,
   "metadata": {},
   "outputs": [
    {
     "data": {
      "text/plain": [
       "35.58397290443858"
      ]
     },
     "execution_count": 32,
     "metadata": {},
     "output_type": "execute_result"
    }
   ],
   "source": [
    "sum(losses)/len(losses)"
   ]
  },
  {
   "cell_type": "code",
   "execution_count": 33,
   "metadata": {},
   "outputs": [
    {
     "data": {
      "text/plain": [
       "[<matplotlib.lines.Line2D at 0x2d4037ae140>]"
      ]
     },
     "execution_count": 33,
     "metadata": {},
     "output_type": "execute_result"
    },
    {
     "data": {
      "image/png": "[encoded data removed]",
      "text/plain": [
       "<Figure size 640x480 with 1 Axes>"
      ]
     },
     "metadata": {},
     "output_type": "display_data"
    }
   ],
   "source": [
    "plt.plot(range(len(losses)), losses)"
   ]
  },
  {
   "attachments": {},
   "cell_type": "markdown",
   "metadata": {},
   "source": [
    "# tensorboard event"
   ]
  },
  {
   "cell_type": "code",
   "execution_count": 3,
   "metadata": {},
   "outputs": [
    {
     "data": {
      "text/plain": [
       "<tensorboard.backend.event_processing.event_accumulator.EventAccumulator at 0x2203224bd90>"
      ]
     },
     "execution_count": 3,
     "metadata": {},
     "output_type": "execute_result"
    }
   ],
   "source": [
    "from tensorboard.backend.event_processing import event_accumulator\n",
    "\n",
    "ea = event_accumulator.EventAccumulator(\n",
    "    r'D:\\uog\\disertation\\exp\\dlinear\\1d\\H24-T96\\loss_val\\events.out.tfevents.1687570726.nack.4576.1'\n",
    ")\n",
    "\n",
    "ea.Reload()\n"
   ]
  },
  {
   "cell_type": "code",
   "execution_count": 4,
   "metadata": {},
   "outputs": [
    {
     "data": {
      "text/plain": [
       "{'images': [],\n",
       " 'audio': [],\n",
       " 'histograms': [],\n",
       " 'scalars': ['loss'],\n",
       " 'distributions': [],\n",
       " 'tensors': [],\n",
       " 'graph': False,\n",
       " 'meta_graph': False,\n",
       " 'run_metadata': []}"
      ]
     },
     "execution_count": 4,
     "metadata": {},
     "output_type": "execute_result"
    }
   ],
   "source": [
    "ea.Tags()"
   ]
  },
  {
   "cell_type": "code",
   "execution_count": 5,
   "metadata": {},
   "outputs": [
    {
     "data": {
      "text/plain": [
       "[ScalarEvent(wall_time=1687570726.3233154, step=0, value=1.5767239332199097),\n",
       " ScalarEvent(wall_time=1687570729.0126238, step=0, value=1.0992387533187866),\n",
       " ScalarEvent(wall_time=1687570731.6101084, step=1, value=0.9458358287811279)]"
      ]
     },
     "execution_count": 5,
     "metadata": {},
     "output_type": "execute_result"
    }
   ],
   "source": [
    "ea.Scalars('loss')"
   ]
  },
  {
   "cell_type": "code",
   "execution_count": 6,
   "metadata": {},
   "outputs": [
    {
     "data": {
      "text/plain": [
       "ScalarEvent(wall_time=1687570726.3233154, step=0, value=1.5767239332199097)"
      ]
     },
     "execution_count": 6,
     "metadata": {},
     "output_type": "execute_result"
    }
   ],
   "source": [
    "se = ea.Scalars('loss')[0]\n",
    "se"
   ]
  },
  {
   "cell_type": "code",
   "execution_count": 7,
   "metadata": {},
   "outputs": [
    {
     "data": {
      "text/plain": [
       "1.5767239332199097"
      ]
     },
     "execution_count": 7,
     "metadata": {},
     "output_type": "execute_result"
    }
   ],
   "source": [
    "se.value"
   ]
  },
  {
   "attachments": {},
   "cell_type": "markdown",
   "metadata": {},
   "source": [
    "# pred"
   ]
  },
  {
   "cell_type": "code",
   "execution_count": 2,
   "metadata": {},
   "outputs": [
    {
     "name": "stderr",
     "output_type": "stream",
     "text": [
      "GPU available: True (cuda), used: True\n"
     ]
    },
    {
     "name": "stdout",
     "output_type": "stream",
     "text": [
      "yeah len(test_y) 12571\n"
     ]
    },
    {
     "name": "stderr",
     "output_type": "stream",
     "text": [
      "TPU available: False, using: 0 TPU cores\n",
      "IPU available: False, using: 0 IPUs\n",
      "HPU available: False, using: 0 HPUs\n",
      "You are using a CUDA device ('NVIDIA GeForce RTX 3050 Ti Laptop GPU') that has Tensor Cores. To properly utilize them, you should set `torch.set_float32_matmul_precision('medium' | 'high')` which will trade-off precision for performance. For more details, read https://pytorch.org/docs/stable/generated/torch.set_float32_matmul_precision.html#torch.set_float32_matmul_precision\n",
      "LOCAL_RANK: 0 - CUDA_VISIBLE_DEVICES: [0]\n",
      "c:\\Users\\nak-o\\miniconda3\\envs\\ds\\lib\\site-packages\\lightning\\pytorch\\trainer\\connectors\\data_connector.py:432: PossibleUserWarning: The dataloader, predict_dataloader, does not have many workers which may be a bottleneck. Consider increasing the value of the `num_workers` argument` (try 16 which is the number of cpus on this machine) in the `DataLoader` init to improve performance.\n",
      "  rank_zero_warn(\n"
     ]
    },
    {
     "name": "stdout",
     "output_type": "stream",
     "text": [
      "Predicting DataLoader 0: 100%|██████████| 393/393 [00:01<00:00, 197.30it/s]\n"
     ]
    }
   ],
   "source": [
    "H = 24\n",
    "T = 96\n",
    "batch_size = 32\n",
    "data = '1d'\n",
    "model = 'nlinear'\n",
    "\n",
    "checkpoint_path = r\"D:\\uog\\disertation\\exp\\nlinear\\1d\\H24-T96\\checkpoints\\nlinear-epoch=19-val_loss=1.1573.ckpt\"\n",
    "\n",
    "_, _, test_loader, scaler = prepare_dataloaders(\n",
    "    data, \n",
    "    batch_size=batch_size,\n",
    "    seq_len=H,\n",
    "    pred_len=T,\n",
    "    n_channels=3\n",
    ")\n",
    "\n",
    "config = Config(seq_len=H, pred_len=T, n_channels=3, lr=1e-3)\n",
    "\n",
    "model = NLinear(config)\n",
    "model.load_from_checkpoint(checkpoint_path, config=config)\n",
    "model.eval()\n",
    "model.freeze()\n",
    "\n",
    "trainer = L.Trainer()\n",
    "predictions = trainer.predict(model, test_loader)"
   ]
  },
  {
   "cell_type": "code",
   "execution_count": 37,
   "metadata": {},
   "outputs": [
    {
     "data": {
      "text/plain": [
       "(393, torch.Size([32, 96, 3]))"
      ]
     },
     "execution_count": 37,
     "metadata": {},
     "output_type": "execute_result"
    }
   ],
   "source": [
    "len(predictions), predictions[0].shape"
   ]
  },
  {
   "cell_type": "code",
   "execution_count": 38,
   "metadata": {},
   "outputs": [
    {
     "data": {
      "text/plain": [
       "(torch.Size([32, 24, 3]), torch.Size([32, 96, 3]))"
      ]
     },
     "execution_count": 38,
     "metadata": {},
     "output_type": "execute_result"
    }
   ],
   "source": [
    "batch_x,batch_y = next(iter(test_loader))\n",
    "batch_x.shape, batch_y.shape"
   ]
  },
  {
   "cell_type": "code",
   "execution_count": 27,
   "metadata": {},
   "outputs": [
    {
     "data": {
      "text/plain": [
       "tensor([[ 0.2208, -0.1139, -0.1907],\n",
       "        [ 0.5294, -0.0754, -0.3136],\n",
       "        [ 0.4680, -0.0529, -0.2235],\n",
       "        [ 0.5509, -0.0281,  0.0154],\n",
       "        [ 0.3958,  0.0583,  0.1236],\n",
       "        [ 0.6992,  0.1732,  0.1734],\n",
       "        [ 0.7203,  0.2128,  0.1650],\n",
       "        [ 0.0896,  0.3287,  0.2446],\n",
       "        [ 0.1468,  0.4539,  0.2291],\n",
       "        [ 0.4342,  0.5731,  0.3647],\n",
       "        [ 0.4117,  0.6285,  0.5518],\n",
       "        [ 0.0954,  0.6341,  0.6121],\n",
       "        [ 0.1515,  0.5921,  0.5491],\n",
       "        [ 0.2360,  0.5052,  0.3964],\n",
       "        [ 0.3801,  0.5014,  0.2980],\n",
       "        [ 0.0521,  0.4686,  0.1733],\n",
       "        [ 0.3774,  0.3761,  0.1986],\n",
       "        [ 0.4426,  0.3626,  0.3262],\n",
       "        [ 0.3902,  0.3748,  0.3641],\n",
       "        [ 0.9289,  0.4346,  0.3713],\n",
       "        [ 0.1546,  0.1798,  0.4653],\n",
       "        [ 0.9293,  0.1073,  0.5845],\n",
       "        [ 0.4705,  0.2578,  0.5995],\n",
       "        [ 0.4258,  0.3634,  0.4702],\n",
       "        [ 0.1812,  0.4456,  0.4117],\n",
       "        [ 0.5654,  0.4897,  0.3884],\n",
       "        [-0.0839,  0.5764,  0.3747],\n",
       "        [-0.2310,  0.7213,  0.5189],\n",
       "        [ 0.3403,  0.7492,  0.7510],\n",
       "        [ 0.0305,  0.7184,  0.7774],\n",
       "        [-0.1345,  0.6958,  0.7209],\n",
       "        [-0.4124,  0.7128,  0.6487],\n",
       "        [-0.5236,  0.6933,  0.5968],\n",
       "        [-0.2469,  0.7625,  0.5244],\n",
       "        [-0.6762,  0.8293,  0.6050],\n",
       "        [-1.5746,  0.7574,  0.7123],\n",
       "        [-1.3126,  0.8645,  0.7659],\n",
       "        [-1.5006,  0.8579,  0.7114],\n",
       "        [-1.9346,  0.8256,  0.7425],\n",
       "        [-1.7380,  0.8899,  0.7056],\n",
       "        [-2.1502,  0.9016,  0.6337],\n",
       "        [-1.9499,  0.8885,  0.7610],\n",
       "        [-1.9062,  0.7243,  0.8578],\n",
       "        [-2.2582,  0.7114,  0.8183],\n",
       "        [-2.3739,  0.6340,  0.6754],\n",
       "        [-2.3802,  0.6668,  0.6249],\n",
       "        [-2.2730,  0.6428,  0.5921],\n",
       "        [-2.4069,  0.6670,  0.6109],\n",
       "        [-2.1206,  0.6630,  0.7412],\n",
       "        [-1.9981,  0.6258,  0.8815],\n",
       "        [-2.8227,  0.5534,  0.8466],\n",
       "        [-2.7291,  0.4392,  0.6180],\n",
       "        [-2.1537,  0.4551,  0.4164],\n",
       "        [-1.9722,  0.5125,  0.3644],\n",
       "        [-2.1676,  0.6854,  0.4879],\n",
       "        [-2.7812,  0.8222,  0.7489],\n",
       "        [-3.0362,  0.8999,  1.1498],\n",
       "        [-3.0410,  0.9152,  1.2787],\n",
       "        [-2.9959,  0.7915,  1.1156],\n",
       "        [-3.0500,  0.6864,  0.9165],\n",
       "        [-3.1820,  0.5926,  0.6338],\n",
       "        [-3.1467,  0.5338,  0.3579],\n",
       "        [-2.8218,  0.4963,  0.2440],\n",
       "        [-3.0408,  0.4794,  0.3386],\n",
       "        [-3.2315,  0.7137,  0.4536],\n",
       "        [-3.2922,  0.9430,  0.5942],\n",
       "        [-2.9398,  0.8737,  0.8769],\n",
       "        [-2.6078,  0.6962,  1.0395],\n",
       "        [-2.7308,  0.6961,  0.9753],\n",
       "        [-2.8763,  0.7318,  0.7947],\n",
       "        [-3.0529,  0.7445,  0.8337],\n",
       "        [-2.3414,  0.6892,  0.9176],\n",
       "        [-1.0635,  0.6967,  0.9549],\n",
       "        [-0.5092,  0.6628,  1.0283],\n",
       "        [-0.5148,  0.4502,  0.9277],\n",
       "        [-0.4687,  0.2940,  0.6501],\n",
       "        [-0.9374,  0.3669,  0.3705],\n",
       "        [-0.5494,  0.3934,  0.3663],\n",
       "        [-0.4026,  0.3569,  0.4010],\n",
       "        [-0.4113,  0.3651,  0.4010],\n",
       "        [-0.7856,  0.3916,  0.4947],\n",
       "        [-1.4248,  0.3030,  0.5187],\n",
       "        [-1.3964,  0.1933,  0.4069],\n",
       "        [-1.3397,  0.0935,  0.2212],\n",
       "        [-1.5777,  0.0041,  0.2105],\n",
       "        [-1.9613, -0.0244,  0.1447],\n",
       "        [-2.4927, -0.1089,  0.0041],\n",
       "        [-2.6669, -0.1026,  0.0254],\n",
       "        [-1.7375, -0.0742,  0.0650],\n",
       "        [-1.1502, -0.1923, -0.0385],\n",
       "        [-1.5281, -0.2936, -0.2012],\n",
       "        [-1.9509, -0.2808, -0.2408],\n",
       "        [-1.3980, -0.2050, -0.2264],\n",
       "        [-1.0268, -0.1611, -0.1919],\n",
       "        [-0.8673, -0.0650,  0.0780],\n",
       "        [-0.6581,  0.0575,  0.3592]], dtype=torch.float64)"
      ]
     },
     "execution_count": 27,
     "metadata": {},
     "output_type": "execute_result"
    }
   ],
   "source": [
    "batch_y[0]"
   ]
  },
  {
   "cell_type": "code",
   "execution_count": 28,
   "metadata": {},
   "outputs": [
    {
     "data": {
      "text/plain": [
       "tensor([[ 0.5294, -0.0754, -0.3136],\n",
       "        [ 0.4680, -0.0529, -0.2235],\n",
       "        [ 0.5509, -0.0281,  0.0154],\n",
       "        [ 0.3958,  0.0583,  0.1236],\n",
       "        [ 0.6992,  0.1732,  0.1734],\n",
       "        [ 0.7203,  0.2128,  0.1650],\n",
       "        [ 0.0896,  0.3287,  0.2446],\n",
       "        [ 0.1468,  0.4539,  0.2291],\n",
       "        [ 0.4342,  0.5731,  0.3647],\n",
       "        [ 0.4117,  0.6285,  0.5518],\n",
       "        [ 0.0954,  0.6341,  0.6121],\n",
       "        [ 0.1515,  0.5921,  0.5491],\n",
       "        [ 0.2360,  0.5052,  0.3964],\n",
       "        [ 0.3801,  0.5014,  0.2980],\n",
       "        [ 0.0521,  0.4686,  0.1733],\n",
       "        [ 0.3774,  0.3761,  0.1986],\n",
       "        [ 0.4426,  0.3626,  0.3262],\n",
       "        [ 0.3902,  0.3748,  0.3641],\n",
       "        [ 0.9289,  0.4346,  0.3713],\n",
       "        [ 0.1546,  0.1798,  0.4653],\n",
       "        [ 0.9293,  0.1073,  0.5845],\n",
       "        [ 0.4705,  0.2578,  0.5995],\n",
       "        [ 0.4258,  0.3634,  0.4702],\n",
       "        [ 0.1812,  0.4456,  0.4117],\n",
       "        [ 0.5654,  0.4897,  0.3884],\n",
       "        [-0.0839,  0.5764,  0.3747],\n",
       "        [-0.2310,  0.7213,  0.5189],\n",
       "        [ 0.3403,  0.7492,  0.7510],\n",
       "        [ 0.0305,  0.7184,  0.7774],\n",
       "        [-0.1345,  0.6958,  0.7209],\n",
       "        [-0.4124,  0.7128,  0.6487],\n",
       "        [-0.5236,  0.6933,  0.5968],\n",
       "        [-0.2469,  0.7625,  0.5244],\n",
       "        [-0.6762,  0.8293,  0.6050],\n",
       "        [-1.5746,  0.7574,  0.7123],\n",
       "        [-1.3126,  0.8645,  0.7659],\n",
       "        [-1.5006,  0.8579,  0.7114],\n",
       "        [-1.9346,  0.8256,  0.7425],\n",
       "        [-1.7380,  0.8899,  0.7056],\n",
       "        [-2.1502,  0.9016,  0.6337],\n",
       "        [-1.9499,  0.8885,  0.7610],\n",
       "        [-1.9062,  0.7243,  0.8578],\n",
       "        [-2.2582,  0.7114,  0.8183],\n",
       "        [-2.3739,  0.6340,  0.6754],\n",
       "        [-2.3802,  0.6668,  0.6249],\n",
       "        [-2.2730,  0.6428,  0.5921],\n",
       "        [-2.4069,  0.6670,  0.6109],\n",
       "        [-2.1206,  0.6630,  0.7412],\n",
       "        [-1.9981,  0.6258,  0.8815],\n",
       "        [-2.8227,  0.5534,  0.8466],\n",
       "        [-2.7291,  0.4392,  0.6180],\n",
       "        [-2.1537,  0.4551,  0.4164],\n",
       "        [-1.9722,  0.5125,  0.3644],\n",
       "        [-2.1676,  0.6854,  0.4879],\n",
       "        [-2.7812,  0.8222,  0.7489],\n",
       "        [-3.0362,  0.8999,  1.1498],\n",
       "        [-3.0410,  0.9152,  1.2787],\n",
       "        [-2.9959,  0.7915,  1.1156],\n",
       "        [-3.0500,  0.6864,  0.9165],\n",
       "        [-3.1820,  0.5926,  0.6338],\n",
       "        [-3.1467,  0.5338,  0.3579],\n",
       "        [-2.8218,  0.4963,  0.2440],\n",
       "        [-3.0408,  0.4794,  0.3386],\n",
       "        [-3.2315,  0.7137,  0.4536],\n",
       "        [-3.2922,  0.9430,  0.5942],\n",
       "        [-2.9398,  0.8737,  0.8769],\n",
       "        [-2.6078,  0.6962,  1.0395],\n",
       "        [-2.7308,  0.6961,  0.9753],\n",
       "        [-2.8763,  0.7318,  0.7947],\n",
       "        [-3.0529,  0.7445,  0.8337],\n",
       "        [-2.3414,  0.6892,  0.9176],\n",
       "        [-1.0635,  0.6967,  0.9549],\n",
       "        [-0.5092,  0.6628,  1.0283],\n",
       "        [-0.5148,  0.4502,  0.9277],\n",
       "        [-0.4687,  0.2940,  0.6501],\n",
       "        [-0.9374,  0.3669,  0.3705],\n",
       "        [-0.5494,  0.3934,  0.3663],\n",
       "        [-0.4026,  0.3569,  0.4010],\n",
       "        [-0.4113,  0.3651,  0.4010],\n",
       "        [-0.7856,  0.3916,  0.4947],\n",
       "        [-1.4248,  0.3030,  0.5187],\n",
       "        [-1.3964,  0.1933,  0.4069],\n",
       "        [-1.3397,  0.0935,  0.2212],\n",
       "        [-1.5777,  0.0041,  0.2105],\n",
       "        [-1.9613, -0.0244,  0.1447],\n",
       "        [-2.4927, -0.1089,  0.0041],\n",
       "        [-2.6669, -0.1026,  0.0254],\n",
       "        [-1.7375, -0.0742,  0.0650],\n",
       "        [-1.1502, -0.1923, -0.0385],\n",
       "        [-1.5281, -0.2936, -0.2012],\n",
       "        [-1.9509, -0.2808, -0.2408],\n",
       "        [-1.3980, -0.2050, -0.2264],\n",
       "        [-1.0268, -0.1611, -0.1919],\n",
       "        [-0.8673, -0.0650,  0.0780],\n",
       "        [-0.6581,  0.0575,  0.3592],\n",
       "        [-0.5157,  0.1454,  0.5783]], dtype=torch.float64)"
      ]
     },
     "execution_count": 28,
     "metadata": {},
     "output_type": "execute_result"
    }
   ],
   "source": [
    "batch_y[1]"
   ]
  },
  {
   "cell_type": "code",
   "execution_count": 39,
   "metadata": {},
   "outputs": [
    {
     "data": {
      "text/plain": [
       "torch.Size([32, 96, 3])"
      ]
     },
     "execution_count": 39,
     "metadata": {},
     "output_type": "execute_result"
    }
   ],
   "source": [
    "pred_first_batch = predictions[0]\n",
    "pred_first_batch.shape"
   ]
  },
  {
   "cell_type": "code",
   "execution_count": 40,
   "metadata": {},
   "outputs": [
    {
     "data": {
      "text/plain": [
       "tensor([[-1.8889e+00, -6.8398e-02,  1.7830e-02],\n",
       "        [-1.9044e+00, -7.4398e-02, -1.5600e-01],\n",
       "        [-7.6185e-01, -2.6844e-01, -1.0408e-01],\n",
       "        [ 1.4050e-01,  7.8756e-02, -3.7918e-01],\n",
       "        [-2.1028e+00, -5.5917e-02, -2.9815e-01],\n",
       "        [-4.2042e-02, -1.7596e-01, -2.7173e-01],\n",
       "        [-1.5434e+00,  1.5369e-02, -1.5337e-01],\n",
       "        [-2.7555e-01, -2.7537e-02, -1.0579e-01],\n",
       "        [-1.6565e+00, -3.9050e-01,  1.6582e-01],\n",
       "        [-1.2537e+00, -2.1923e-01, -2.1341e-01],\n",
       "        [-1.5407e+00, -2.2889e-01, -5.0705e-01],\n",
       "        [-3.4354e-01,  5.9364e-02, -6.1191e-01],\n",
       "        [-1.7230e+00, -3.1919e-01, -9.2232e-02],\n",
       "        [-4.1314e-02, -2.0546e-01, -3.7068e-01],\n",
       "        [-9.1843e-01,  2.2526e-01, -1.6921e-01],\n",
       "        [ 9.3421e-02,  6.6498e-02, -2.2303e-01],\n",
       "        [-2.2001e+00, -2.6854e-01, -3.0656e-01],\n",
       "        [-1.5614e+00, -7.7381e-04,  1.7361e-01],\n",
       "        [-1.6392e+00, -5.1514e-02, -4.1143e-01],\n",
       "        [-1.7785e+00, -3.2939e-01, -1.5087e-01],\n",
       "        [-5.9281e-01, -3.6556e-01, -3.3312e-01],\n",
       "        [-5.6313e-01,  9.4455e-02, -2.3637e-01],\n",
       "        [-1.6485e+00, -1.4927e-01, -2.4647e-02],\n",
       "        [-3.7025e-01, -9.7470e-03, -1.3843e-01],\n",
       "        [-1.6435e+00, -3.9421e-01,  2.0248e-01],\n",
       "        [-4.3964e-01, -2.1792e-01, -2.4736e-02],\n",
       "        [-1.1133e+00, -1.9233e-01, -9.5847e-02],\n",
       "        [-1.2219e-01,  3.0562e-02,  9.5965e-02],\n",
       "        [-4.9054e-01,  8.4796e-03,  1.0382e-01],\n",
       "        [-3.1734e-01, -8.2515e-02, -4.4553e-01],\n",
       "        [-2.7565e-01, -1.0181e-02, -3.4269e-01],\n",
       "        [-7.2578e-01,  1.7925e-03,  8.5828e-02],\n",
       "        [-3.5831e-01, -1.7889e-01, -5.1612e-01],\n",
       "        [-4.2156e-01, -2.7531e-01, -1.5848e-01],\n",
       "        [-1.0756e+00, -1.2597e-01, -3.8533e-01],\n",
       "        [-2.0317e+00, -1.6197e-01, -1.2809e-01],\n",
       "        [-1.2113e+00, -2.7968e-01, -1.8615e-01],\n",
       "        [-8.4318e-01, -2.8665e-01, -1.8992e-02],\n",
       "        [-2.1192e+00,  1.8995e-02, -1.9642e-01],\n",
       "        [-9.0042e-01,  1.3134e-01,  2.1128e-02],\n",
       "        [-1.6379e+00, -2.2713e-01, -2.0614e-01],\n",
       "        [-5.2574e-01, -2.8237e-01, -3.2706e-01],\n",
       "        [-1.7818e+00, -3.0385e-01, -2.0017e-01],\n",
       "        [ 2.5695e-01, -2.0625e-01,  9.6945e-02],\n",
       "        [-2.9738e-01, -3.0383e-01, -1.5578e-01],\n",
       "        [-1.3880e+00, -1.9198e-01, -3.6505e-01],\n",
       "        [-6.9264e-01, -1.8211e-01, -4.5381e-02],\n",
       "        [-1.1785e+00, -2.2330e-01,  9.8729e-02],\n",
       "        [-1.3101e+00, -7.9173e-02, -1.1782e-01],\n",
       "        [-1.4939e+00, -1.1879e-01, -6.4620e-02],\n",
       "        [-1.2249e+00, -1.0728e-01, -2.3099e-02],\n",
       "        [-1.1277e+00, -2.2612e-01, -4.5477e-01],\n",
       "        [-1.5864e+00, -1.3098e-01, -7.9774e-02],\n",
       "        [-1.3473e+00,  2.6877e-03,  2.4908e-03],\n",
       "        [-1.7547e+00, -5.6870e-02,  1.0705e-01],\n",
       "        [-6.5636e-01, -1.3913e-01, -4.8006e-02],\n",
       "        [-1.7830e+00,  5.6494e-02, -3.1225e-01],\n",
       "        [-1.1880e+00,  2.3840e-02,  2.4904e-01],\n",
       "        [-9.2650e-01, -2.7088e-01, -1.3724e-01],\n",
       "        [-8.6009e-01,  9.4673e-03, -6.1199e-01],\n",
       "        [-1.4419e+00, -1.5236e-01,  4.9775e-02],\n",
       "        [-1.4433e+00, -1.8975e-01, -2.4973e-01],\n",
       "        [-1.8986e+00, -1.9215e-01, -4.4665e-01],\n",
       "        [-1.3043e+00, -8.7075e-03,  3.2161e-02],\n",
       "        [-1.4180e+00, -1.0685e-01, -1.1176e-01],\n",
       "        [-1.8820e-01, -2.2670e-01, -2.2658e-01],\n",
       "        [-1.1741e+00, -3.2356e-01,  1.3684e-01],\n",
       "        [-1.2600e+00, -1.8732e-01, -2.8268e-02],\n",
       "        [-2.7601e-01,  8.3805e-02, -4.5567e-01],\n",
       "        [-7.8590e-01, -2.7040e-01, -1.1302e-01],\n",
       "        [-1.4950e-02, -3.1216e-01, -2.6815e-01],\n",
       "        [-1.1636e+00, -4.6231e-02, -1.8916e-01],\n",
       "        [-2.8165e+00, -1.9206e-01, -3.1945e-01],\n",
       "        [-1.7118e+00, -1.1129e-01, -4.1061e-01],\n",
       "        [-9.1489e-01, -3.4889e-01,  7.7121e-02],\n",
       "        [-5.7479e-01,  1.6610e-01, -5.3599e-01],\n",
       "        [-9.6902e-01, -8.8387e-02, -5.5125e-01],\n",
       "        [-4.7737e-01, -3.9616e-02, -2.3223e-01],\n",
       "        [ 3.0925e-01, -3.6429e-01, -4.4880e-01],\n",
       "        [-9.7705e-01, -2.8175e-01, -2.2008e-01],\n",
       "        [-1.1344e+00, -9.3727e-02, -5.8122e-03],\n",
       "        [-6.8138e-01, -1.7706e-01, -6.4405e-02],\n",
       "        [-1.0532e+00, -1.7311e-01,  6.7586e-02],\n",
       "        [-1.2179e+00, -1.3550e-01, -3.8505e-01],\n",
       "        [-9.5236e-01, -1.2614e-01, -1.8277e-01],\n",
       "        [-8.4274e-01, -9.6809e-02, -3.2163e-01],\n",
       "        [-1.1041e+00,  3.4939e-02, -2.0081e-01],\n",
       "        [-7.9118e-01, -2.6215e-03,  1.0770e-02],\n",
       "        [ 8.1232e-01, -4.8800e-02, -1.7106e-01],\n",
       "        [ 7.2401e-02, -3.0276e-01, -2.5218e-01],\n",
       "        [-1.4598e+00, -5.0830e-02, -3.8623e-01],\n",
       "        [-7.6167e-01, -2.1312e-01, -1.8610e-01],\n",
       "        [-1.7128e+00, -2.9257e-01, -4.5341e-01],\n",
       "        [-1.4112e+00, -2.8024e-01, -8.5520e-02],\n",
       "        [-1.9873e+00, -2.5193e-01, -5.1374e-01],\n",
       "        [-7.2598e-01, -1.6585e-01, -2.0419e-01]], dtype=torch.float64)"
      ]
     },
     "execution_count": 40,
     "metadata": {},
     "output_type": "execute_result"
    }
   ],
   "source": [
    "pred_first_batch[0]"
   ]
  },
  {
   "cell_type": "code",
   "execution_count": 41,
   "metadata": {},
   "outputs": [
    {
     "data": {
      "text/plain": [
       "tensor([[-1.6155, -0.4306,  0.0653],\n",
       "        [-1.4519, -0.2329, -0.2099],\n",
       "        [-0.5603, -0.4749, -0.1335],\n",
       "        [ 0.0030, -0.3292, -0.2632],\n",
       "        [-1.4923, -0.4233, -0.1455],\n",
       "        [ 0.0302, -0.4597, -0.1709],\n",
       "        [-0.9629, -0.2226, -0.0970],\n",
       "        [-0.3382, -0.4080, -0.0240],\n",
       "        [-1.1106, -0.4142,  0.2603],\n",
       "        [-1.0503, -0.5149, -0.1322],\n",
       "        [-1.4797, -0.5873, -0.4795],\n",
       "        [-0.0330, -0.1828, -0.4885],\n",
       "        [-1.4236, -0.3674, -0.1728],\n",
       "        [-0.1373, -0.3361, -0.2474],\n",
       "        [-0.9058, -0.0596, -0.1942],\n",
       "        [-0.0202, -0.1494, -0.1576],\n",
       "        [-1.9723, -0.5262, -0.0992],\n",
       "        [-1.0449, -0.1211,  0.0333],\n",
       "        [-1.4141, -0.0619, -0.3036],\n",
       "        [-1.3287, -0.3275, -0.0790],\n",
       "        [-0.3663, -0.5885, -0.3551],\n",
       "        [-0.1409, -0.0953, -0.2071],\n",
       "        [-1.2068, -0.2175, -0.0455],\n",
       "        [-0.4203, -0.2692, -0.1437],\n",
       "        [-1.3666, -0.5125,  0.1484],\n",
       "        [-0.6301, -0.5162, -0.0761],\n",
       "        [-1.1043, -0.3636, -0.1064],\n",
       "        [-0.3061, -0.1386,  0.0499],\n",
       "        [ 0.0082, -0.1087,  0.0507],\n",
       "        [-0.2491, -0.0487, -0.3959],\n",
       "        [-0.2474, -0.1807, -0.2087],\n",
       "        [-0.9921, -0.2151,  0.0745],\n",
       "        [-0.3937, -0.2717, -0.4235],\n",
       "        [-0.6706, -0.2654, -0.1760],\n",
       "        [-0.8504, -0.3132, -0.2296],\n",
       "        [-1.3039, -0.5684, -0.2383],\n",
       "        [-0.9646, -0.5579, -0.0035],\n",
       "        [-0.5733, -0.4736, -0.0306],\n",
       "        [-1.7898, -0.2684,  0.0191],\n",
       "        [-0.5464, -0.0831,  0.0657],\n",
       "        [-1.2996, -0.4479, -0.2005],\n",
       "        [-0.3620, -0.4094, -0.2894],\n",
       "        [-1.0224, -0.5015, -0.3494],\n",
       "        [ 0.4414, -0.4870,  0.0478],\n",
       "        [-0.3481, -0.5333, -0.1537],\n",
       "        [-1.2149, -0.4036, -0.3449],\n",
       "        [-0.4120, -0.4800, -0.1141],\n",
       "        [-0.9822, -0.4857,  0.1249],\n",
       "        [-1.1788, -0.1397, -0.1904],\n",
       "        [-1.4374, -0.5533,  0.0273],\n",
       "        [-0.9011, -0.4852, -0.1216],\n",
       "        [-0.8415, -0.4526, -0.4463],\n",
       "        [-1.3205, -0.3250, -0.0445],\n",
       "        [-1.1245, -0.3169, -0.0782],\n",
       "        [-1.7491, -0.3033,  0.0151],\n",
       "        [-0.7027, -0.4825, -0.0966],\n",
       "        [-1.5070, -0.3374, -0.2878],\n",
       "        [-0.5037,  0.0285,  0.1200],\n",
       "        [-0.6451, -0.1763, -0.1270],\n",
       "        [-0.9875, -0.4487, -0.5363],\n",
       "        [-1.0213, -0.3450, -0.0035],\n",
       "        [-1.0600, -0.5060, -0.1185],\n",
       "        [-1.2758, -0.4227, -0.1784],\n",
       "        [-0.9348, -0.5617, -0.0216],\n",
       "        [-0.9661, -0.4961, -0.1625],\n",
       "        [-0.4370, -0.3473, -0.4026],\n",
       "        [-0.7052, -0.5323,  0.1592],\n",
       "        [-0.5972, -0.4351,  0.0382],\n",
       "        [-0.4367, -0.0830, -0.3571],\n",
       "        [-0.7939, -0.4475, -0.0156],\n",
       "        [ 0.2206, -0.4928, -0.2596],\n",
       "        [-0.4071, -0.1669, -0.1402],\n",
       "        [-2.0940, -0.5906, -0.2851],\n",
       "        [-1.2607, -0.1516, -0.2603],\n",
       "        [-0.7336, -0.4640,  0.0107],\n",
       "        [-0.9869, -0.0907, -0.4770],\n",
       "        [-0.8437, -0.1655, -0.4304],\n",
       "        [-0.1999,  0.0311, -0.1195],\n",
       "        [ 0.4444, -0.4903, -0.4177],\n",
       "        [-0.8448, -0.5770, -0.2161],\n",
       "        [-0.8567, -0.2817, -0.0660],\n",
       "        [-0.5399, -0.3811, -0.1941],\n",
       "        [-0.6891, -0.4882, -0.1362],\n",
       "        [-1.2033, -0.4051, -0.3030],\n",
       "        [-0.9127, -0.3689, -0.0524],\n",
       "        [-0.7271, -0.3554, -0.1841],\n",
       "        [-1.0178, -0.2716, -0.1041],\n",
       "        [-0.4388, -0.1596,  0.0793],\n",
       "        [ 0.7743, -0.1434, -0.1868],\n",
       "        [ 0.1182, -0.3923, -0.2562],\n",
       "        [-0.9795, -0.4977, -0.2749],\n",
       "        [-0.6776, -0.4044, -0.0698],\n",
       "        [-1.8124, -0.6189, -0.3622],\n",
       "        [-1.2118, -0.3146, -0.1505],\n",
       "        [-1.7282, -0.4050, -0.3938],\n",
       "        [-0.4069, -0.3867, -0.1996]], dtype=torch.float64)"
      ]
     },
     "execution_count": 41,
     "metadata": {},
     "output_type": "execute_result"
    }
   ],
   "source": [
    "pred_first_batch[1]"
   ]
  },
  {
   "cell_type": "code",
   "execution_count": 4,
   "metadata": {},
   "outputs": [
    {
     "data": {
      "text/plain": [
       "12666"
      ]
     },
     "execution_count": 4,
     "metadata": {},
     "output_type": "execute_result"
    }
   ],
   "source": [
    "preds = []\n",
    "for batch_index,batch in enumerate(predictions):\n",
    "    for pred_sequence_index, pred_sequence in enumerate(batch):\n",
    "        for time_step_index, time_step in enumerate(pred_sequence):\n",
    "            pred_index = (batch_index * batch_size) + pred_sequence_index + time_step_index\n",
    "            if pred_index >= len(preds):\n",
    "                preds.append([])\n",
    "            preds[pred_index].append(list(time_step))\n",
    "\n",
    "\n",
    "len(preds)"
   ]
  },
  {
   "cell_type": "code",
   "execution_count": 5,
   "metadata": {},
   "outputs": [
    {
     "data": {
      "text/plain": [
       "[<matplotlib.lines.Line2D at 0x2859cff02e0>]"
      ]
     },
     "execution_count": 5,
     "metadata": {},
     "output_type": "execute_result"
    },
    {
     "data": {
      "image/png": "[encoded data removed]",
      "text/plain": [
       "<Figure size 640x480 with 1 Axes>"
      ]
     },
     "metadata": {},
     "output_type": "display_data"
    }
   ],
   "source": [
    "lengths = [len(e) for e in preds]\n",
    "plt.plot(range(len(lengths)), lengths)"
   ]
  },
  {
   "cell_type": "code",
   "execution_count": 53,
   "metadata": {},
   "outputs": [
    {
     "data": {
      "text/plain": [
       "array([2.66666667, 3.66666667])"
      ]
     },
     "execution_count": 53,
     "metadata": {},
     "output_type": "execute_result"
    }
   ],
   "source": [
    "np.mean([\n",
    "    [1,2],\n",
    "    [3,4],\n",
    "    [4,5]\n",
    "], axis=0)"
   ]
  },
  {
   "cell_type": "code",
   "execution_count": 6,
   "metadata": {},
   "outputs": [
    {
     "data": {
      "text/plain": [
       "(12666, 3)"
      ]
     },
     "execution_count": 6,
     "metadata": {},
     "output_type": "execute_result"
    }
   ],
   "source": [
    "avg_preds = []\n",
    "for pred in preds:\n",
    "    temp = np.mean(pred, axis=0)\n",
    "    avg_preds.append(temp)\n",
    "\n",
    "np.array(avg_preds).shape"
   ]
  },
  {
   "cell_type": "code",
   "execution_count": 11,
   "metadata": {},
   "outputs": [
    {
     "data": {
      "text/plain": [
       "list"
      ]
     },
     "execution_count": 11,
     "metadata": {},
     "output_type": "execute_result"
    }
   ],
   "source": [
    "type(predictions)"
   ]
  },
  {
   "cell_type": "code",
   "execution_count": 23,
   "metadata": {},
   "outputs": [],
   "source": [
    "def average_predictions(predictions: list, batch_size: int, only_first=False) -> np.ndarray:\n",
    "    preds = []\n",
    "    for batch_index,batch in enumerate(predictions):\n",
    "        for pred_sequence_index, pred_sequence in enumerate(batch):\n",
    "            for time_step_index, time_step in enumerate(pred_sequence):\n",
    "                pred_index = (batch_index * batch_size) + pred_sequence_index + time_step_index\n",
    "                if pred_index >= len(preds):\n",
    "                    preds.append([])\n",
    "                preds[pred_index].append(list(time_step))\n",
    "\n",
    "    avg_preds = []\n",
    "    for pred in preds:\n",
    "        if only_first:\n",
    "            temp = np.array(pred)[0,:]\n",
    "        else:\n",
    "            temp = np.mean(pred, axis=0)\n",
    "        avg_preds.append(temp)\n",
    "\n",
    "    return np.array(avg_preds)\n"
   ]
  },
  {
   "cell_type": "code",
   "execution_count": 31,
   "metadata": {},
   "outputs": [],
   "source": [
    "preds = average_predictions(predictions, batch_size)"
   ]
  },
  {
   "cell_type": "code",
   "execution_count": 24,
   "metadata": {},
   "outputs": [
    {
     "data": {
      "text/plain": [
       "(12666, 3)"
      ]
     },
     "execution_count": 24,
     "metadata": {},
     "output_type": "execute_result"
    }
   ],
   "source": [
    "batch_y_list = []\n",
    "for batch in test_loader:\n",
    "    x,y = batch\n",
    "    batch_y_list.append(y)\n",
    "\n",
    "targets = average_predictions(batch_y_list, batch_size, only_first=True)\n",
    "targets.shape"
   ]
  },
  {
   "cell_type": "code",
   "execution_count": 27,
   "metadata": {},
   "outputs": [
    {
     "data": {
      "text/plain": [
       "0.22081115949850885"
      ]
     },
     "execution_count": 27,
     "metadata": {},
     "output_type": "execute_result"
    }
   ],
   "source": [
    "batch_y_list[0][0][0][0].item()"
   ]
  },
  {
   "cell_type": "code",
   "execution_count": 26,
   "metadata": {},
   "outputs": [
    {
     "data": {
      "text/plain": [
       "array([[ 0.22081116, -0.11394513, -0.19073677],\n",
       "       [ 0.52944306, -0.07540851, -0.3136283 ],\n",
       "       [ 0.46796191, -0.05294528, -0.2234866 ],\n",
       "       [ 0.55087822, -0.02807792,  0.01535559],\n",
       "       [ 0.39581862,  0.05827985,  0.12356465],\n",
       "       [ 0.69917469,  0.17321589,  0.17335976],\n",
       "       [ 0.72032333,  0.21283501,  0.1649697 ],\n",
       "       [ 0.08959113,  0.32867007,  0.24459381],\n",
       "       [ 0.14677884,  0.45392869,  0.22910027],\n",
       "       [ 0.43419681,  0.57306907,  0.36472525]])"
      ]
     },
     "execution_count": 26,
     "metadata": {},
     "output_type": "execute_result"
    }
   ],
   "source": [
    "targets[0:10]"
   ]
  },
  {
   "cell_type": "code",
   "execution_count": 17,
   "metadata": {},
   "outputs": [
    {
     "data": {
      "text/plain": [
       "tensor([[ 0.2208, -0.1139, -0.1907],\n",
       "        [ 0.5294, -0.0754, -0.3136],\n",
       "        [ 0.4680, -0.0529, -0.2235],\n",
       "        [ 0.5509, -0.0281,  0.0154],\n",
       "        [ 0.3958,  0.0583,  0.1236],\n",
       "        [ 0.6992,  0.1732,  0.1734],\n",
       "        [ 0.7203,  0.2128,  0.1650],\n",
       "        [ 0.0896,  0.3287,  0.2446],\n",
       "        [ 0.1468,  0.4539,  0.2291],\n",
       "        [ 0.4342,  0.5731,  0.3647],\n",
       "        [ 0.4117,  0.6285,  0.5518],\n",
       "        [ 0.0954,  0.6341,  0.6121],\n",
       "        [ 0.1515,  0.5921,  0.5491],\n",
       "        [ 0.2360,  0.5052,  0.3964],\n",
       "        [ 0.3801,  0.5014,  0.2980],\n",
       "        [ 0.0521,  0.4686,  0.1733],\n",
       "        [ 0.3774,  0.3761,  0.1986],\n",
       "        [ 0.4426,  0.3626,  0.3262],\n",
       "        [ 0.3902,  0.3748,  0.3641],\n",
       "        [ 0.9289,  0.4346,  0.3713],\n",
       "        [ 0.1546,  0.1798,  0.4653],\n",
       "        [ 0.9293,  0.1073,  0.5845],\n",
       "        [ 0.4705,  0.2578,  0.5995],\n",
       "        [ 0.4258,  0.3634,  0.4702],\n",
       "        [ 0.1812,  0.4456,  0.4117],\n",
       "        [ 0.5654,  0.4897,  0.3884],\n",
       "        [-0.0839,  0.5764,  0.3747],\n",
       "        [-0.2310,  0.7213,  0.5189],\n",
       "        [ 0.3403,  0.7492,  0.7510],\n",
       "        [ 0.0305,  0.7184,  0.7774],\n",
       "        [-0.1345,  0.6958,  0.7209],\n",
       "        [-0.4124,  0.7128,  0.6487],\n",
       "        [-0.5236,  0.6933,  0.5968],\n",
       "        [-0.2469,  0.7625,  0.5244],\n",
       "        [-0.6762,  0.8293,  0.6050],\n",
       "        [-1.5746,  0.7574,  0.7123],\n",
       "        [-1.3126,  0.8645,  0.7659],\n",
       "        [-1.5006,  0.8579,  0.7114],\n",
       "        [-1.9346,  0.8256,  0.7425],\n",
       "        [-1.7380,  0.8899,  0.7056],\n",
       "        [-2.1502,  0.9016,  0.6337],\n",
       "        [-1.9499,  0.8885,  0.7610],\n",
       "        [-1.9062,  0.7243,  0.8578],\n",
       "        [-2.2582,  0.7114,  0.8183],\n",
       "        [-2.3739,  0.6340,  0.6754],\n",
       "        [-2.3802,  0.6668,  0.6249],\n",
       "        [-2.2730,  0.6428,  0.5921],\n",
       "        [-2.4069,  0.6670,  0.6109],\n",
       "        [-2.1206,  0.6630,  0.7412],\n",
       "        [-1.9981,  0.6258,  0.8815],\n",
       "        [-2.8227,  0.5534,  0.8466],\n",
       "        [-2.7291,  0.4392,  0.6180],\n",
       "        [-2.1537,  0.4551,  0.4164],\n",
       "        [-1.9722,  0.5125,  0.3644],\n",
       "        [-2.1676,  0.6854,  0.4879],\n",
       "        [-2.7812,  0.8222,  0.7489],\n",
       "        [-3.0362,  0.8999,  1.1498],\n",
       "        [-3.0410,  0.9152,  1.2787],\n",
       "        [-2.9959,  0.7915,  1.1156],\n",
       "        [-3.0500,  0.6864,  0.9165],\n",
       "        [-3.1820,  0.5926,  0.6338],\n",
       "        [-3.1467,  0.5338,  0.3579],\n",
       "        [-2.8218,  0.4963,  0.2440],\n",
       "        [-3.0408,  0.4794,  0.3386],\n",
       "        [-3.2315,  0.7137,  0.4536],\n",
       "        [-3.2922,  0.9430,  0.5942],\n",
       "        [-2.9398,  0.8737,  0.8769],\n",
       "        [-2.6078,  0.6962,  1.0395],\n",
       "        [-2.7308,  0.6961,  0.9753],\n",
       "        [-2.8763,  0.7318,  0.7947],\n",
       "        [-3.0529,  0.7445,  0.8337],\n",
       "        [-2.3414,  0.6892,  0.9176],\n",
       "        [-1.0635,  0.6967,  0.9549],\n",
       "        [-0.5092,  0.6628,  1.0283],\n",
       "        [-0.5148,  0.4502,  0.9277],\n",
       "        [-0.4687,  0.2940,  0.6501],\n",
       "        [-0.9374,  0.3669,  0.3705],\n",
       "        [-0.5494,  0.3934,  0.3663],\n",
       "        [-0.4026,  0.3569,  0.4010],\n",
       "        [-0.4113,  0.3651,  0.4010],\n",
       "        [-0.7856,  0.3916,  0.4947],\n",
       "        [-1.4248,  0.3030,  0.5187],\n",
       "        [-1.3964,  0.1933,  0.4069],\n",
       "        [-1.3397,  0.0935,  0.2212],\n",
       "        [-1.5777,  0.0041,  0.2105],\n",
       "        [-1.9613, -0.0244,  0.1447],\n",
       "        [-2.4927, -0.1089,  0.0041],\n",
       "        [-2.6669, -0.1026,  0.0254],\n",
       "        [-1.7375, -0.0742,  0.0650],\n",
       "        [-1.1502, -0.1923, -0.0385],\n",
       "        [-1.5281, -0.2936, -0.2012],\n",
       "        [-1.9509, -0.2808, -0.2408],\n",
       "        [-1.3980, -0.2050, -0.2264],\n",
       "        [-1.0268, -0.1611, -0.1919],\n",
       "        [-0.8673, -0.0650,  0.0780],\n",
       "        [-0.6581,  0.0575,  0.3592]], dtype=torch.float64)"
      ]
     },
     "execution_count": 17,
     "metadata": {},
     "output_type": "execute_result"
    }
   ],
   "source": [
    "batch_x,batch_y = next(iter(test_loader))\n",
    "batch_y[0]"
   ]
  },
  {
   "cell_type": "code",
   "execution_count": 32,
   "metadata": {},
   "outputs": [
    {
     "data": {
      "text/plain": [
       "((12666, 3), (12666, 3))"
      ]
     },
     "execution_count": 32,
     "metadata": {},
     "output_type": "execute_result"
    }
   ],
   "source": [
    "preds.shape, targets.shape"
   ]
  },
  {
   "cell_type": "code",
   "execution_count": 2,
   "metadata": {},
   "outputs": [
    {
     "name": "stdout",
     "output_type": "stream",
     "text": [
      "Predicting DataLoader 0: 100%|██████████| 392/392 [00:02<00:00, 170.19it/s]\n"
     ]
    }
   ],
   "source": [
    "# load model\n",
    "H = 168\n",
    "T = 96\n",
    "batch_size = 32\n",
    "data = '1d'\n",
    "model = 'dlinear'\n",
    "\n",
    "checkpoint_path = r\"D:\\uog\\disertation\\exp\\dlinear\\1d\\H168-T96\\checkpoints\\dlinear-epoch=19-val_loss=0.6301.ckpt\"\n",
    "\n",
    "_, _, test_loader, scaler = prepare_dataloaders(\n",
    "    data, \n",
    "    batch_size=batch_size,\n",
    "    seq_len=H,\n",
    "    pred_len=T,\n",
    "    n_channels=3\n",
    ")\n",
    "\n",
    "config = Config(seq_len=H, pred_len=T, n_channels=3, lr=1e-3)\n",
    "\n",
    "model = DLinear(config)\n",
    "model = model.load_from_checkpoint(checkpoint_path, config=config)\n",
    "model.eval()\n",
    "model.freeze()\n",
    "\n",
    "trainer = L.Trainer()\n",
    "predictions = trainer.predict(model, test_loader)"
   ]
  },
  {
   "cell_type": "code",
   "execution_count": 12,
   "metadata": {},
   "outputs": [
    {
     "data": {
      "text/plain": [
       "torch.Size([12535, 96, 3])"
      ]
     },
     "execution_count": 12,
     "metadata": {},
     "output_type": "execute_result"
    }
   ],
   "source": [
    "x = torch.vstack(predictions)\n",
    "x.shape"
   ]
  },
  {
   "cell_type": "code",
   "execution_count": 3,
   "metadata": {},
   "outputs": [],
   "source": [
    "# pred\n",
    "means_preds, firsts_preds = average_predictions(predictions)\n",
    "means_preds = scaler.inverse_transform(means_preds)\n",
    "firsts_preds = scaler.inverse_transform(firsts_preds)"
   ]
  },
  {
   "cell_type": "code",
   "execution_count": 4,
   "metadata": {},
   "outputs": [],
   "source": [
    "# targets\n",
    "targets_means, targets_firsts = make_targets(test_loader)\n",
    "targets_means = scaler.inverse_transform(targets_means)\n",
    "targets_firsts = scaler.inverse_transform(targets_firsts)"
   ]
  },
  {
   "cell_type": "code",
   "execution_count": 5,
   "metadata": {},
   "outputs": [
    {
     "data": {
      "text/plain": [
       "((12630, 3), (12535, 3), (12630, 3), (12535, 3))"
      ]
     },
     "execution_count": 5,
     "metadata": {},
     "output_type": "execute_result"
    }
   ],
   "source": [
    "means_preds.shape, firsts_preds.shape, targets_means.shape, targets_firsts.shape"
   ]
  },
  {
   "cell_type": "code",
   "execution_count": 5,
   "metadata": {},
   "outputs": [
    {
     "data": {
      "image/png": "[encoded data removed]",
      "text/plain": [
       "<Figure size 1600x400 with 3 Axes>"
      ]
     },
     "metadata": {},
     "output_type": "display_data"
    }
   ],
   "source": [
    "plot_reconstructed(means_preds, targets_means)"
   ]
  },
  {
   "cell_type": "code",
   "execution_count": 6,
   "metadata": {},
   "outputs": [
    {
     "data": {
      "image/png": "[encoded data removed]",
      "text/plain": [
       "<Figure size 1600x400 with 3 Axes>"
      ]
     },
     "metadata": {},
     "output_type": "display_data"
    }
   ],
   "source": [
    "plot_reconstructed(firsts_preds, targets_firsts)"
   ]
  },
  {
   "cell_type": "code",
   "execution_count": 6,
   "metadata": {},
   "outputs": [],
   "source": [
    "# pred\n",
    "preds = average_predictions(predictions, batch_size, only_first=False)"
   ]
  },
  {
   "cell_type": "code",
   "execution_count": 8,
   "metadata": {},
   "outputs": [
    {
     "data": {
      "image/png": "[encoded data removed]",
      "text/plain": [
       "<Figure size 1200x400 with 3 Axes>"
      ]
     },
     "metadata": {},
     "output_type": "display_data"
    }
   ],
   "source": [
    "# targets\n",
    "batch_y_list = []\n",
    "for batch in test_loader:\n",
    "    x,y = batch\n",
    "    batch_y_list.append(y)\n",
    "    \n",
    "targets = average_predictions(batch_y_list, batch_size, only_first=True)"
   ]
  },
  {
   "cell_type": "code",
   "execution_count": 9,
   "metadata": {},
   "outputs": [
    {
     "data": {
      "image/png": "[encoded data removed]",
      "text/plain": [
       "<Figure size 1600x400 with 3 Axes>"
      ]
     },
     "metadata": {},
     "output_type": "display_data"
    }
   ],
   "source": [
    "fig, axes = plt.subplots(ncols=3, nrows=1, figsize=(16,4))\n",
    "titles = ['velocity', 'thrust', 'torqe']\n",
    "for i in range(3):\n",
    "    min_val = min(np.min(targets[:,i]), np.min(preds[:,i]))\n",
    "    max_val = max(np.max(targets[:,i]), np.max(preds[:,i]))\n",
    "\n",
    "    axes[i].scatter(targets[:,i], preds[:,i])\n",
    "\n",
    "    temp = np.arange(min_val,max_val,0.1)\n",
    "    axes[i].plot(temp, temp, c='r')\n",
    "\n",
    "    axes[i].title.set_text(titles[i])\n",
    "\n",
    "plt.show()"
   ]
  },
  {
   "cell_type": "code",
   "execution_count": 16,
   "metadata": {},
   "outputs": [
    {
     "data": {
      "text/plain": [
       "[array([[1, 2],\n",
       "        [3, 4]]),\n",
       " array([[5, 6],\n",
       "        [7, 8]])]"
      ]
     },
     "execution_count": 16,
     "metadata": {},
     "output_type": "execute_result"
    }
   ],
   "source": [
    "x = [np.array([[1,2],[3,4]]), np.array([[5,6],[7,8]])]\n",
    "x"
   ]
  },
  {
   "cell_type": "code",
   "execution_count": 17,
   "metadata": {},
   "outputs": [
    {
     "data": {
      "text/plain": [
       "array([[3., 4.],\n",
       "       [5., 6.]])"
      ]
     },
     "execution_count": 17,
     "metadata": {},
     "output_type": "execute_result"
    }
   ],
   "source": [
    "np.mean(x, axis=0)"
   ]
  },
  {
   "cell_type": "markdown",
   "metadata": {},
   "source": [
    "# covariates"
   ]
  },
  {
   "cell_type": "code",
   "execution_count": 2,
   "metadata": {},
   "outputs": [],
   "source": [
    "# coding=utf-8\n",
    "# Copyright 2023 The Google Research Authors.\n",
    "#\n",
    "# Licensed under the Apache License, Version 2.0 (the \"License\");\n",
    "# you may not use this file except in compliance with the License.\n",
    "# You may obtain a copy of the License at\n",
    "#\n",
    "#     http://www.apache.org/licenses/LICENSE-2.0\n",
    "#\n",
    "# Unless required by applicable law or agreed to in writing, software\n",
    "# distributed under the License is distributed on an \"AS IS\" BASIS,\n",
    "# WITHOUT WARRANTIES OR CONDITIONS OF ANY KIND, either express or implied.\n",
    "# See the License for the specific language governing permissions and\n",
    "# limitations under the License.\n",
    "\n",
    "\"\"\"Directory to extract time covariates.\n",
    "\n",
    "Extract time covariates from datetime.\n",
    "\"\"\"\n",
    "\n",
    "import numpy as np\n",
    "import pandas as pd\n",
    "from pandas.tseries.holiday import EasterMonday\n",
    "from pandas.tseries.holiday import GoodFriday\n",
    "from pandas.tseries.holiday import Holiday\n",
    "from pandas.tseries.holiday import SU\n",
    "from pandas.tseries.holiday import TH\n",
    "from pandas.tseries.holiday import USColumbusDay\n",
    "from pandas.tseries.holiday import USLaborDay\n",
    "from pandas.tseries.holiday import USMartinLutherKingJr\n",
    "from pandas.tseries.holiday import USMemorialDay\n",
    "from pandas.tseries.holiday import USPresidentsDay\n",
    "from pandas.tseries.holiday import USThanksgivingDay\n",
    "from pandas.tseries.offsets import DateOffset\n",
    "from pandas.tseries.offsets import Day\n",
    "from pandas.tseries.offsets import Easter\n",
    "from sklearn.preprocessing import StandardScaler\n",
    "from tqdm import tqdm\n",
    "\n",
    "\n",
    "# This is 183 to cover half a year (in both directions), also for leap years\n",
    "# + 17 as Eastern can be between March, 22 - April, 25\n",
    "MAX_WINDOW = 183 + 17\n",
    "\n",
    "\n",
    "def _distance_to_holiday(holiday):\n",
    "  \"\"\"Return distance to given holiday.\"\"\"\n",
    "\n",
    "  def _distance_to_day(index):\n",
    "    holiday_date = holiday.dates(\n",
    "        index - pd.Timedelta(days=MAX_WINDOW),\n",
    "        index + pd.Timedelta(days=MAX_WINDOW),\n",
    "    )\n",
    "    assert (\n",
    "        len(holiday_date) != 0  # pylint: disable=g-explicit-length-test\n",
    "    ), f\"No closest holiday for the date index {index} found.\"\n",
    "    # It sometimes returns two dates if it is exactly half a year after the\n",
    "    # holiday. In this case, the smaller distance (182 days) is returned.\n",
    "    return (index - holiday_date[0]).days\n",
    "\n",
    "  return _distance_to_day\n",
    "\n",
    "\n",
    "EasterSunday = Holiday(\n",
    "    \"Easter Sunday\", month=1, day=1, offset=[Easter(), Day(0)]\n",
    ")\n",
    "NewYearsDay = Holiday(\"New Years Day\", month=1, day=1)\n",
    "SuperBowl = Holiday(\n",
    "    \"Superbowl\", month=2, day=1, offset=DateOffset(weekday=SU(1))\n",
    ")\n",
    "MothersDay = Holiday(\n",
    "    \"Mothers Day\", month=5, day=1, offset=DateOffset(weekday=SU(2))\n",
    ")\n",
    "IndependenceDay = Holiday(\"Independence Day\", month=7, day=4)\n",
    "ChristmasEve = Holiday(\"Christmas\", month=12, day=24)\n",
    "ChristmasDay = Holiday(\"Christmas\", month=12, day=25)\n",
    "NewYearsEve = Holiday(\"New Years Eve\", month=12, day=31)\n",
    "BlackFriday = Holiday(\n",
    "    \"Black Friday\",\n",
    "    month=11,\n",
    "    day=1,\n",
    "    offset=[pd.DateOffset(weekday=TH(4)), Day(1)],\n",
    ")\n",
    "CyberMonday = Holiday(\n",
    "    \"Cyber Monday\",\n",
    "    month=11,\n",
    "    day=1,\n",
    "    offset=[pd.DateOffset(weekday=TH(4)), Day(4)],\n",
    ")\n",
    "\n",
    "HOLIDAYS = [\n",
    "    EasterMonday,\n",
    "    GoodFriday,\n",
    "    USColumbusDay,\n",
    "    USLaborDay,\n",
    "    USMartinLutherKingJr,\n",
    "    USMemorialDay,\n",
    "    USPresidentsDay,\n",
    "    USThanksgivingDay,\n",
    "    EasterSunday,\n",
    "    NewYearsDay,\n",
    "    SuperBowl,\n",
    "    MothersDay,\n",
    "    IndependenceDay,\n",
    "    ChristmasEve,\n",
    "    ChristmasDay,\n",
    "    NewYearsEve,\n",
    "    BlackFriday,\n",
    "    CyberMonday,\n",
    "]\n",
    "\n",
    "\n",
    "class TimeCovariates(object):\n",
    "  \"\"\"Extract all time covariates except for holidays.\"\"\"\n",
    "\n",
    "  def __init__(\n",
    "      self,\n",
    "      datetimes,\n",
    "      normalized = True,\n",
    "      holiday = False,\n",
    "  ):\n",
    "    \"\"\"Init function.\n",
    "\n",
    "    Args:\n",
    "      datetimes: pandas DatetimeIndex (lowest granularity supported is min)\n",
    "      normalized: whether to normalize features or not\n",
    "      holiday: fetch holiday features or not\n",
    "\n",
    "    Returns:\n",
    "      None\n",
    "    \"\"\"\n",
    "    self.normalized = normalized\n",
    "    self.dti = datetimes\n",
    "    self.holiday = holiday\n",
    "\n",
    "  def _minute_of_hour(self):\n",
    "    minutes = np.array(self.dti.minute, dtype=np.float32)\n",
    "    if self.normalized:\n",
    "      minutes = minutes / 59.0 - 0.5\n",
    "    return minutes\n",
    "\n",
    "  def _hour_of_day(self):\n",
    "    hours = np.array(self.dti.hour, dtype=np.float32)\n",
    "    if self.normalized:\n",
    "      hours = hours / 23.0 - 0.5\n",
    "    return hours\n",
    "\n",
    "  def _day_of_week(self):\n",
    "    day_week = np.array(self.dti.dayofweek, dtype=np.float32)\n",
    "    if self.normalized:\n",
    "      day_week = day_week / 6.0 - 0.5\n",
    "    return day_week\n",
    "\n",
    "  def _day_of_month(self):\n",
    "    day_month = np.array(self.dti.day, dtype=np.float32)\n",
    "    if self.normalized:\n",
    "      day_month = day_month / 30.0 - 0.5\n",
    "    return day_month\n",
    "\n",
    "  def _day_of_year(self):\n",
    "    day_year = np.array(self.dti.dayofyear, dtype=np.float32)\n",
    "    if self.normalized:\n",
    "      day_year = day_year / 364.0 - 0.5\n",
    "    return day_year\n",
    "\n",
    "  def _month_of_year(self):\n",
    "    month_year = np.array(self.dti.month, dtype=np.float32)\n",
    "    if self.normalized:\n",
    "      month_year = month_year / 11.0 - 0.5\n",
    "    return month_year\n",
    "\n",
    "  def _week_of_year(self):\n",
    "    week_year = np.array(self.dti.strftime(\"%U\").astype(int), dtype=np.float32)\n",
    "    if self.normalized:\n",
    "      week_year = week_year / 51.0 - 0.5\n",
    "    return week_year\n",
    "\n",
    "  def _get_holidays(self):\n",
    "    dti_series = self.dti.to_series()\n",
    "    hol_variates = np.vstack(\n",
    "        [\n",
    "            dti_series.apply(_distance_to_holiday(h)).values\n",
    "            for h in tqdm(HOLIDAYS)\n",
    "        ]\n",
    "    )\n",
    "    # hol_variates is (num_holiday, num_time_steps), the normalization should be\n",
    "    # performed in the num_time_steps dimension.\n",
    "    return StandardScaler().fit_transform(hol_variates.T).T\n",
    "\n",
    "  def get_covariates(self):\n",
    "    \"\"\"Get all time covariates.\"\"\"\n",
    "    moh = self._minute_of_hour().reshape(1, -1)\n",
    "    hod = self._hour_of_day().reshape(1, -1)\n",
    "    dom = self._day_of_month().reshape(1, -1)\n",
    "    dow = self._day_of_week().reshape(1, -1)\n",
    "    doy = self._day_of_year().reshape(1, -1)\n",
    "    moy = self._month_of_year().reshape(1, -1)\n",
    "    woy = self._week_of_year().reshape(1, -1)\n",
    "\n",
    "    all_covs = [\n",
    "        moh,\n",
    "        hod,\n",
    "        dom,\n",
    "        dow,\n",
    "        doy,\n",
    "        moy,\n",
    "        woy,\n",
    "    ]\n",
    "    columns = [\"moh\", \"hod\", \"dom\", \"dow\", \"doy\", \"moy\", \"woy\"]\n",
    "    if self.holiday:\n",
    "      hol_covs = self._get_holidays()\n",
    "      all_covs.append(hol_covs)\n",
    "      columns += [f\"hol_{i}\" for i in range(len(HOLIDAYS))]\n",
    "\n",
    "    return pd.DataFrame(\n",
    "        data=np.vstack(all_covs).transpose(),\n",
    "        columns=columns,\n",
    "        index=self.dti,\n",
    "    )\n"
   ]
  },
  {
   "cell_type": "code",
   "execution_count": 4,
   "metadata": {},
   "outputs": [
    {
     "data": {
      "text/plain": [
       "DatetimeIndex(['2023-07-06 12:19:58.158603', '2023-07-07 12:19:58.158603',\n",
       "               '2023-07-08 12:19:58.158603', '2023-07-09 12:19:58.158603',\n",
       "               '2023-07-10 12:19:58.158603', '2023-07-11 12:19:58.158603'],\n",
       "              dtype='datetime64[ns]', freq='D')"
      ]
     },
     "execution_count": 4,
     "metadata": {},
     "output_type": "execute_result"
    }
   ],
   "source": [
    "from datetime import datetime, timedelta\n",
    "\n",
    "date_index = pd.date_range(datetime.now() - timedelta(days=5) , datetime.now())\n",
    "date_index"
   ]
  },
  {
   "cell_type": "code",
   "execution_count": 6,
   "metadata": {},
   "outputs": [
    {
     "data": {
      "text/html": [
       "<div>\n",
       "<style scoped>\n",
       "    .dataframe tbody tr th:only-of-type {\n",
       "        vertical-align: middle;\n",
       "    }\n",
       "\n",
       "    .dataframe tbody tr th {\n",
       "        vertical-align: top;\n",
       "    }\n",
       "\n",
       "    .dataframe thead th {\n",
       "        text-align: right;\n",
       "    }\n",
       "</style>\n",
       "<table border=\"1\" class=\"dataframe\">\n",
       "  <thead>\n",
       "    <tr style=\"text-align: right;\">\n",
       "      <th></th>\n",
       "      <th>moh</th>\n",
       "      <th>hod</th>\n",
       "      <th>dom</th>\n",
       "      <th>dow</th>\n",
       "      <th>doy</th>\n",
       "      <th>moy</th>\n",
       "      <th>woy</th>\n",
       "    </tr>\n",
       "  </thead>\n",
       "  <tbody>\n",
       "    <tr>\n",
       "      <th>2023-07-06 12:19:58.158603</th>\n",
       "      <td>-0.177966</td>\n",
       "      <td>0.021739</td>\n",
       "      <td>-0.300000</td>\n",
       "      <td>0.000000</td>\n",
       "      <td>0.013736</td>\n",
       "      <td>0.136364</td>\n",
       "      <td>0.029412</td>\n",
       "    </tr>\n",
       "    <tr>\n",
       "      <th>2023-07-07 12:19:58.158603</th>\n",
       "      <td>-0.177966</td>\n",
       "      <td>0.021739</td>\n",
       "      <td>-0.266667</td>\n",
       "      <td>0.166667</td>\n",
       "      <td>0.016484</td>\n",
       "      <td>0.136364</td>\n",
       "      <td>0.029412</td>\n",
       "    </tr>\n",
       "    <tr>\n",
       "      <th>2023-07-08 12:19:58.158603</th>\n",
       "      <td>-0.177966</td>\n",
       "      <td>0.021739</td>\n",
       "      <td>-0.233333</td>\n",
       "      <td>0.333333</td>\n",
       "      <td>0.019231</td>\n",
       "      <td>0.136364</td>\n",
       "      <td>0.029412</td>\n",
       "    </tr>\n",
       "    <tr>\n",
       "      <th>2023-07-09 12:19:58.158603</th>\n",
       "      <td>-0.177966</td>\n",
       "      <td>0.021739</td>\n",
       "      <td>-0.200000</td>\n",
       "      <td>0.500000</td>\n",
       "      <td>0.021978</td>\n",
       "      <td>0.136364</td>\n",
       "      <td>0.049020</td>\n",
       "    </tr>\n",
       "    <tr>\n",
       "      <th>2023-07-10 12:19:58.158603</th>\n",
       "      <td>-0.177966</td>\n",
       "      <td>0.021739</td>\n",
       "      <td>-0.166667</td>\n",
       "      <td>-0.500000</td>\n",
       "      <td>0.024725</td>\n",
       "      <td>0.136364</td>\n",
       "      <td>0.049020</td>\n",
       "    </tr>\n",
       "    <tr>\n",
       "      <th>2023-07-11 12:19:58.158603</th>\n",
       "      <td>-0.177966</td>\n",
       "      <td>0.021739</td>\n",
       "      <td>-0.133333</td>\n",
       "      <td>-0.333333</td>\n",
       "      <td>0.027473</td>\n",
       "      <td>0.136364</td>\n",
       "      <td>0.049020</td>\n",
       "    </tr>\n",
       "  </tbody>\n",
       "</table>\n",
       "</div>"
      ],
      "text/plain": [
       "                                 moh       hod       dom       dow       doy  \\\n",
       "2023-07-06 12:19:58.158603 -0.177966  0.021739 -0.300000  0.000000  0.013736   \n",
       "2023-07-07 12:19:58.158603 -0.177966  0.021739 -0.266667  0.166667  0.016484   \n",
       "2023-07-08 12:19:58.158603 -0.177966  0.021739 -0.233333  0.333333  0.019231   \n",
       "2023-07-09 12:19:58.158603 -0.177966  0.021739 -0.200000  0.500000  0.021978   \n",
       "2023-07-10 12:19:58.158603 -0.177966  0.021739 -0.166667 -0.500000  0.024725   \n",
       "2023-07-11 12:19:58.158603 -0.177966  0.021739 -0.133333 -0.333333  0.027473   \n",
       "\n",
       "                                 moy       woy  \n",
       "2023-07-06 12:19:58.158603  0.136364  0.029412  \n",
       "2023-07-07 12:19:58.158603  0.136364  0.029412  \n",
       "2023-07-08 12:19:58.158603  0.136364  0.029412  \n",
       "2023-07-09 12:19:58.158603  0.136364  0.049020  \n",
       "2023-07-10 12:19:58.158603  0.136364  0.049020  \n",
       "2023-07-11 12:19:58.158603  0.136364  0.049020  "
      ]
     },
     "execution_count": 6,
     "metadata": {},
     "output_type": "execute_result"
    }
   ],
   "source": [
    "TimeCovariates(date_index).get_covariates()"
   ]
  }
 ],
 "metadata": {
  "kernelspec": {
   "display_name": "ds",
   "language": "python",
   "name": "python3"
  },
  "language_info": {
   "codemirror_mode": {
    "name": "ipython",
    "version": 3
   },
   "file_extension": ".py",
   "mimetype": "text/x-python",
   "name": "python",
   "nbconvert_exporter": "python",
   "pygments_lexer": "ipython3",
   "version": "3.10.11"
  },
  "orig_nbformat": 4
 },
 "nbformat": 4,
 "nbformat_minor": 2
}
