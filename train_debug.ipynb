{
 "cells": [
  {
   "cell_type": "code",
   "execution_count": 29,
   "metadata": {},
   "outputs": [],
   "source": [
    "from data import prepare_3d_dataloaders\n",
    "from models import NLinear\n",
    "from utils import Config\n",
    "import torch.nn.functional as F\n",
    "from tqdm import tqdm\n",
    "import matplotlib.pyplot as plt\n",
    "import torch"
   ]
  },
  {
   "cell_type": "code",
   "execution_count": 37,
   "metadata": {},
   "outputs": [
    {
     "name": "stdout",
     "output_type": "stream",
     "text": [
      "preparing data3d...\n",
      "done preparing data3d\n"
     ]
    },
    {
     "data": {
      "text/plain": [
       "NLinear(\n",
       "  (linear): ModuleList(\n",
       "    (0-2): 3 x Linear(in_features=24, out_features=96, bias=True)\n",
       "  )\n",
       ")"
      ]
     },
     "execution_count": 37,
     "metadata": {},
     "output_type": "execute_result"
    }
   ],
   "source": [
    "seq_len = 24\n",
    "pred_len = 96\n",
    "n_channels = 3\n",
    "\n",
    "train_loader, val_loader, test_loader = prepare_3d_dataloaders(batch_size=8, seq_len=seq_len, pred_len=pred_len, n_channels=n_channels)\n",
    "\n",
    "nlinear = NLinear(Config(seq_len=seq_len, pred_len=pred_len, n_channels=n_channels))\n",
    "nlinear.cuda()\n"
   ]
  },
  {
   "cell_type": "code",
   "execution_count": 38,
   "metadata": {},
   "outputs": [
    {
     "data": {
      "text/plain": [
       "(torch.Size([8, 24, 3]), torch.Size([8, 96, 3]))"
      ]
     },
     "execution_count": 38,
     "metadata": {},
     "output_type": "execute_result"
    }
   ],
   "source": [
    "tli = iter(train_loader)\n",
    "for i in range(100):\n",
    "    batch = next(tli)\n",
    "x,y = batch\n",
    "x = x.cuda()\n",
    "y = y.cuda()\n",
    "x.shape,y.shape"
   ]
  },
  {
   "cell_type": "code",
   "execution_count": 12,
   "metadata": {},
   "outputs": [
    {
     "data": {
      "text/plain": [
       "torch.Size([8, 1, 3])"
      ]
     },
     "execution_count": 12,
     "metadata": {},
     "output_type": "execute_result"
    }
   ],
   "source": [
    "y_hat = nlinear.forward(x)\n",
    "y_hat.shape"
   ]
  },
  {
   "cell_type": "code",
   "execution_count": 13,
   "metadata": {},
   "outputs": [
    {
     "data": {
      "text/plain": [
       "tensor([[[  1.0724, 333.4085,  19.7509]],\n",
       "\n",
       "        [[  1.1286, 338.2799,  20.3234]],\n",
       "\n",
       "        [[  1.1276, 334.9824,  20.9630]],\n",
       "\n",
       "        [[  1.1178, 332.3256,  20.4907]],\n",
       "\n",
       "        [[  1.1132, 327.2790,  19.2461]],\n",
       "\n",
       "        [[  1.1254, 319.8542,  18.1337]],\n",
       "\n",
       "        [[  1.0870, 323.3980,  17.5411]],\n",
       "\n",
       "        [[  1.1297, 324.8519,  17.7253]]], device='cuda:0',\n",
       "       dtype=torch.float64)"
      ]
     },
     "execution_count": 13,
     "metadata": {},
     "output_type": "execute_result"
    }
   ],
   "source": [
    "y"
   ]
  },
  {
   "cell_type": "code",
   "execution_count": 14,
   "metadata": {},
   "outputs": [
    {
     "data": {
      "text/plain": [
       "tensor([[[  1.2881, 339.2560,  21.0322]],\n",
       "\n",
       "        [[  1.2657, 338.4501,  20.7917]],\n",
       "\n",
       "        [[  1.2797, 337.7162,  20.5053]],\n",
       "\n",
       "        [[  1.2967, 321.5578,  20.2981]],\n",
       "\n",
       "        [[  1.2974, 326.4244,  20.1478]],\n",
       "\n",
       "        [[  1.2940, 338.3836,  20.4075]],\n",
       "\n",
       "        [[  1.2718, 344.6643,  21.0154]],\n",
       "\n",
       "        [[  1.2846, 347.5431,  21.3955]]], device='cuda:0',\n",
       "       dtype=torch.float64, grad_fn=<AddBackward0>)"
      ]
     },
     "execution_count": 14,
     "metadata": {},
     "output_type": "execute_result"
    }
   ],
   "source": [
    "y_hat"
   ]
  },
  {
   "cell_type": "code",
   "execution_count": 15,
   "metadata": {},
   "outputs": [
    {
     "data": {
      "text/plain": [
       "tensor(62.6138, device='cuda:0', dtype=torch.float64,\n",
       "       grad_fn=<MseLossBackward0>)"
      ]
     },
     "execution_count": 15,
     "metadata": {},
     "output_type": "execute_result"
    }
   ],
   "source": [
    "F.mse_loss(y_hat, y)"
   ]
  },
  {
   "cell_type": "code",
   "execution_count": 45,
   "metadata": {},
   "outputs": [
    {
     "name": "stdout",
     "output_type": "stream",
     "text": [
      "0\n"
     ]
    },
    {
     "name": "stderr",
     "output_type": "stream",
     "text": [
      "c:\\Users\\nak-o\\miniconda3\\envs\\ds\\lib\\site-packages\\lightning\\pytorch\\core\\module.py:407: UserWarning: You are trying to `self.log()` but the `self.trainer` reference is not registered on the model yet. This is most likely because the model hasn't been passed to the `Trainer`\n",
      "  rank_zero_warn(\n"
     ]
    },
    {
     "name": "stdout",
     "output_type": "stream",
     "text": [
      "6270\n",
      "0\n",
      "6270\n",
      "0\n",
      "6270\n",
      "0\n",
      "6270\n",
      "0\n",
      "6270\n",
      "0\n",
      "6270\n",
      "0\n",
      "6270\n",
      "0\n",
      "6270\n",
      "0\n",
      "6270\n",
      "0\n",
      "6270\n",
      "0\n",
      "6270\n",
      "0\n",
      "6270\n",
      "0\n",
      "6270\n",
      "0\n",
      "6270\n",
      "0\n",
      "6270\n",
      "0\n",
      "6270\n",
      "0\n",
      "6270\n",
      "0\n",
      "6270\n",
      "0\n",
      "6270\n",
      "0\n",
      "6270\n"
     ]
    }
   ],
   "source": [
    "\n",
    "nlinear = NLinear(Config(seq_len=seq_len, pred_len=pred_len, n_channels=n_channels))\n",
    "nlinear.cuda()\n",
    "\n",
    "losses = []\n",
    "optimizer = torch.optim.Adam(nlinear.parameters(), lr=1e-4)\n",
    "\n",
    "for _ in range(20):\n",
    "\n",
    "    print(len(nlinear.training_step_losses))\n",
    "\n",
    "    tli = iter(train_loader)\n",
    "    while True:\n",
    "        batch = next(tli, None)\n",
    "        if batch is None:\n",
    "            break\n",
    "        optimizer.zero_grad()\n",
    "        loss = nlinear.training_step(batch, 0)\n",
    "        loss.backward()\n",
    "        optimizer.step()\n",
    "\n",
    "    print(len(nlinear.training_step_losses))\n",
    "    _losses = [e.item() for e in nlinear.training_step_losses]\n",
    "    loss = sum(_losses) / len(_losses)\n",
    "    losses.append(loss)\n",
    "    nlinear.training_step_losses.clear()"
   ]
  },
  {
   "cell_type": "code",
   "execution_count": 46,
   "metadata": {},
   "outputs": [
    {
     "data": {
      "text/plain": [
       "[296.69031417605913,\n",
       " 270.22497621021614,\n",
       " 266.0020441246135,\n",
       " 263.8768211823139,\n",
       " 262.55232802795774,\n",
       " 261.6370972562828,\n",
       " 260.96129486103877,\n",
       " 260.4380749649951,\n",
       " 260.0185610688298,\n",
       " 259.6731910848716,\n",
       " 259.38298707801454,\n",
       " 259.1351408476789,\n",
       " 258.920641095937,\n",
       " 258.7329275016804,\n",
       " 258.5670889212923,\n",
       " 258.4193638960889,\n",
       " 258.2868167079619,\n",
       " 258.1671196771408,\n",
       " 258.0584022669484,\n",
       " 257.95914368944756]"
      ]
     },
     "execution_count": 46,
     "metadata": {},
     "output_type": "execute_result"
    }
   ],
   "source": [
    "losses"
   ]
  },
  {
   "cell_type": "code",
   "execution_count": 47,
   "metadata": {},
   "outputs": [
    {
     "data": {
      "text/plain": [
       "[<matplotlib.lines.Line2D at 0x2d4016d5de0>]"
      ]
     },
     "execution_count": 47,
     "metadata": {},
     "output_type": "execute_result"
    },
    {
     "data": {
      "image/png": "[encoded data removed]",
      "text/plain": [
       "<Figure size 640x480 with 1 Axes>"
      ]
     },
     "metadata": {},
     "output_type": "display_data"
    }
   ],
   "source": [
    "plt.plot(range(len(losses)), losses)"
   ]
  },
  {
   "cell_type": "code",
   "execution_count": 31,
   "metadata": {},
   "outputs": [],
   "source": [
    "losses = [e.item() for e in nlinear.training_step_losses]"
   ]
  },
  {
   "cell_type": "code",
   "execution_count": 32,
   "metadata": {},
   "outputs": [
    {
     "data": {
      "text/plain": [
       "35.58397290443858"
      ]
     },
     "execution_count": 32,
     "metadata": {},
     "output_type": "execute_result"
    }
   ],
   "source": [
    "sum(losses)/len(losses)"
   ]
  },
  {
   "cell_type": "code",
   "execution_count": 33,
   "metadata": {},
   "outputs": [
    {
     "data": {
      "text/plain": [
       "[<matplotlib.lines.Line2D at 0x2d4037ae140>]"
      ]
     },
     "execution_count": 33,
     "metadata": {},
     "output_type": "execute_result"
    },
    {
     "data": {
      "image/png": "[encoded data removed]",
      "text/plain": [
       "<Figure size 640x480 with 1 Axes>"
      ]
     },
     "metadata": {},
     "output_type": "display_data"
    }
   ],
   "source": [
    "plt.plot(range(len(losses)), losses)"
   ]
  }
 ],
 "metadata": {
  "kernelspec": {
   "display_name": "ds",
   "language": "python",
   "name": "python3"
  },
  "language_info": {
   "codemirror_mode": {
    "name": "ipython",
    "version": 3
   },
   "file_extension": ".py",
   "mimetype": "text/x-python",
   "name": "python",
   "nbconvert_exporter": "python",
   "pygments_lexer": "ipython3",
   "version": "3.10.11"
  },
  "orig_nbformat": 4
 },
 "nbformat": 4,
 "nbformat_minor": 2
}
